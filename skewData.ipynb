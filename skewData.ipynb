{
 "cells": [
  {
   "cell_type": "code",
   "execution_count": 1,
   "metadata": {},
   "outputs": [],
   "source": [
    "import cv2\n",
    "import numpy\n",
    "import pytesseract\n",
    "\n",
    "\n",
    "image = cv2.imread(r'C:\\Users\\hpadmin\\Desktop\\prasad\\images.png')\n",
    "\n",
    "gray = cv2.cvtColor(image,cv2.COLOR_BGR2GRAY)\n",
    "gray = cv2.bitwise_not(gray)\n",
    "\n",
    "ret,thresh = cv2.threshold(gray,0,255,cv2.THRESH_BINARY | cv2.THRESH_OTSU)"
   ]
  },
  {
   "cell_type": "code",
   "execution_count": 2,
   "metadata": {},
   "outputs": [],
   "source": [
    "coordinates = numpy.column_stack(numpy.where(thresh>0))\n",
    "angle = cv2.minAreaRect(coordinates)[-1]\n",
    "\n",
    "if angle < -45:\n",
    "    angle = -(90+angle)\n",
    "else:\n",
    "    angle = -angle"
   ]
  },
  {
   "cell_type": "code",
   "execution_count": 3,
   "metadata": {},
   "outputs": [],
   "source": [
    "(h,w) = image.shape[:2]\n",
    "center = (w//2,h//2)\n",
    "rotationMatrix = cv2.getRotationMatrix2D(center,angle,1.0)\n",
    "rotated = cv2.warpAffine(image,rotationMatrix,(w,h),flags=cv2.INTER_CUBIC,borderMode=cv2.BORDER_REPLICATE)"
   ]
  },
  {
   "cell_type": "code",
   "execution_count": 4,
   "metadata": {},
   "outputs": [],
   "source": [
    "image2 = cv2.putText(rotated, \"Angle: {:.2f} degrees\".format(angle),(10, 30), cv2.FONT_HERSHEY_SIMPLEX, 0.7, (0, 0, 255), 2)"
   ]
  },
  {
   "cell_type": "code",
   "execution_count": 5,
   "metadata": {},
   "outputs": [
    {
     "name": "stdout",
     "output_type": "stream",
     "text": [
      "[INFO] angle: -11.310\n"
     ]
    }
   ],
   "source": [
    "print(\"[INFO] angle: {:.3f}\".format(angle))\n"
   ]
  },
  {
   "cell_type": "code",
   "execution_count": 6,
   "metadata": {},
   "outputs": [],
   "source": [
    "#cv2.imshow(\"Input\", image)\n",
    "#cv2.imshow(\"Rotated\", image2)\n",
    "#cv2.waitKey(0)\n",
    "pytesseract.pytesseract.tesseract_cmd = r\"C:\\Program Files\\Tesseract-OCR\\tesseract.exe\""
   ]
  },
  {
   "cell_type": "code",
   "execution_count": 7,
   "metadata": {},
   "outputs": [],
   "source": [
    "image_to_text = pytesseract.image_to_string(rotated,lang='eng')"
   ]
  },
  {
   "cell_type": "code",
   "execution_count": 8,
   "metadata": {},
   "outputs": [
    {
     "name": "stdout",
     "output_type": "stream",
     "text": [
      "Angle: -11.31 degr\n",
      "\n",
      "LikeGeeks.com is a website\n",
      "which contains articles about\n",
      "Linux, programming, web\n",
      "development, iOS, Python and\n",
      "other tech tips\n"
     ]
    }
   ],
   "source": [
    "print(image_to_text)"
   ]
  },
  {
   "cell_type": "code",
   "execution_count": null,
   "metadata": {},
   "outputs": [],
   "source": []
  }
 ],
 "metadata": {
  "kernelspec": {
   "display_name": "Python 3",
   "language": "python",
   "name": "python3"
  },
  "language_info": {
   "codemirror_mode": {
    "name": "ipython",
    "version": 3
   },
   "file_extension": ".py",
   "mimetype": "text/x-python",
   "name": "python",
   "nbconvert_exporter": "python",
   "pygments_lexer": "ipython3",
   "version": "3.7.6"
  }
 },
 "nbformat": 4,
 "nbformat_minor": 4
}
